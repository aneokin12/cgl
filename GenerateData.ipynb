{
  "nbformat": 4,
  "nbformat_minor": 0,
  "metadata": {
    "colab": {
      "provenance": []
    },
    "kernelspec": {
      "name": "python3",
      "display_name": "Python 3"
    },
    "language_info": {
      "name": "python"
    }
  },
  "cells": [
    {
      "cell_type": "code",
      "execution_count": 10,
      "metadata": {
        "id": "2pyyHdGNKLXM"
      },
      "outputs": [],
      "source": [
        "import numpy as np\n",
        "import pandas as pd"
      ]
    },
    {
      "cell_type": "code",
      "source": [
        "def generate_string(length=50):\n",
        "    return ''.join(np.random.choice(['A', 'C', 'G', 'T', 'N', '*'], length))\n",
        "def create_dataset(num_samples=1000, length=50):\n",
        "    data = []\n",
        "    labels = []\n",
        "    for _ in range(num_samples):\n",
        "        s = generate_string(length)\n",
        "        data.append(s)\n",
        "        # Determine the most frequent character\n",
        "        most_frequent_char = max(set(s), key=s.count)\n",
        "        labels.append(most_frequent_char)\n",
        "    return data, labels\n",
        "\n",
        "def hot_encode_string(s):\n",
        "    encoding = {'A': [1, 0, 0, 0, 0, 0], 'C': [0, 1, 0, 0, 0, 0],\n",
        "                'G': [0, 0, 1, 0, 0, 0], 'T': [0, 0, 0, 1, 0, 0],\n",
        "                'N': [0, 0, 0, 0, 1, 0], '*': [0, 0, 0, 0, 0, 1]}\n",
        "    return np.array([encoding[char] for char in s])\n",
        "\n",
        "# Function to convert labels to one-hot encoding\n",
        "def hot_encode_label(label):\n",
        "    encoding = {'A': [1, 0, 0, 0, 0, 0], 'C': [0, 1, 0, 0, 0, 0],\n",
        "                'G': [0, 0, 1, 0, 0, 0], 'T': [0, 0, 0, 1, 0, 0],\n",
        "                'N': [0, 0, 0, 0, 1, 0], '*': [0, 0, 0, 0, 0, 1]}\n",
        "    return encoding[label]\n",
        "print(generate_string())"
      ],
      "metadata": {
        "colab": {
          "base_uri": "https://localhost:8080/"
        },
        "id": "9fNtvHvDKQNk",
        "outputId": "5a658037-3e90-43a0-b0e0-7cca042a415b"
      },
      "execution_count": 11,
      "outputs": [
        {
          "output_type": "stream",
          "name": "stdout",
          "text": [
            "TCA*CTN*T*CNNAAACTTNT*ACGTGTTA*TNCANTTAG*CNACC*TNT\n"
          ]
        }
      ]
    },
    {
      "cell_type": "code",
      "source": [
        "num_samples = 1000\n",
        "length = 50\n",
        "data, labels = create_dataset(num_samples, length)\n",
        "\n",
        "# Hot encode the dataset and labels\n",
        "encoded_data = np.array([hot_encode_string(s) for s in data])\n",
        "encoded_labels = np.array([hot_encode_label(l) for l in labels])\n",
        "\n",
        "# Reshape data to 2D array for saving to CSV\n",
        "X_train = encoded_data.reshape(num_samples, -1)  # Flatten the last two dimensions\n",
        "Y_train = encoded_labels\n",
        "\n",
        "# Save to CSV\n",
        "X_train_df = pd.DataFrame(X_train)\n",
        "Y_train_df = pd.DataFrame(Y_train)\n",
        "\n",
        "X_train_df.to_csv('X_train.csv', index=False)\n",
        "Y_train_df.to_csv('Y_train.csv', index=False)"
      ],
      "metadata": {
        "id": "fVFErVikL6LN"
      },
      "execution_count": 12,
      "outputs": []
    }
  ]
}