{
  "nbformat": 4,
  "nbformat_minor": 0,
  "metadata": {
    "colab": {
      "provenance": []
    },
    "kernelspec": {
      "name": "python3",
      "display_name": "Python 3"
    },
    "language_info": {
      "name": "python"
    }
  },
  "cells": [
    {
      "cell_type": "code",
      "execution_count": 11,
      "metadata": {
        "colab": {
          "base_uri": "https://localhost:8080/"
        },
        "id": "pjxdlkEqtmMv",
        "outputId": "97a3206f-cb13-408a-d617-ed07906b0a07"
      },
      "outputs": [
        {
          "output_type": "stream",
          "name": "stdout",
          "text": [
            "Encoded String: *TAAGC*CCAAGT*TGAA**GATAAG**GG*TC*A**ACGGCCCC*GGAG\n",
            "50\n",
            "Base64 Encoded String: KlRBQUdDKkNDQUFHVCpUR0FBKipHQVRBQUcqKkdHKlRDKkEqKkFDR0dDQ0NDKkdHQUc=\n",
            "68\n",
            "Reconstructed Original String: *TAAGC*CCAAGT*TGAA**GATAAG**GG*TC*A**ACGGCCCC*GGAG\n"
          ]
        }
      ],
      "source": [
        "import base64\n",
        "\n",
        "char_to_ascii = {\n",
        "    'A': 65,  # ASCII value for 'A'\n",
        "    'C': 67,  # ASCII value for 'C'\n",
        "    'G': 71,  # ASCII value for 'G'\n",
        "    'T': 84,  # ASCII value for 'T'\n",
        "    '*': 42   # ASCII value for '*'\n",
        "}\n",
        "\n",
        "ascii_to_char = {v: k for k, v in char_to_ascii.items()}\n",
        "\n",
        "def encode_string(original_string, mapping):\n",
        "    return ''.join(chr(mapping[char]) for char in original_string)\n",
        "\n",
        "def base64_encode_string(string):\n",
        "    encoded_bytes = base64.b64encode(string.encode())\n",
        "    return encoded_bytes.decode()\n",
        "\n",
        "def decode_string(encoded_string, reverse_mapping):\n",
        "    return ''.join(reverse_mapping[ord(char)] for char in encoded_string)\n",
        "\n",
        "def base64_decode_string(base64_string):\n",
        "    decoded_bytes = base64.b64decode(base64_string.encode())\n",
        "    return decoded_bytes.decode()\n",
        "\n",
        "original_string = \"*TAAGC*CCAAGT*TGAA**GATAAG**GG*TC*A**ACGGCCCC*GGAG\"\n",
        "\n",
        "encoded_string = encode_string(original_string, char_to_ascii)\n",
        "print(\"Encoded String:\", encoded_string)\n",
        "\n",
        "second_string = encoded_string\n",
        "print(len(second_string))\n",
        "\n",
        "base64_encoded_string = base64_encode_string(second_string)\n",
        "print(\"Base64 Encoded String:\", base64_encoded_string)\n",
        "print(len(base64_encoded_string))\n",
        "\n",
        "decoded_second_string = base64_decode_string(base64_encoded_string)\n",
        "\n",
        "reconstructed_original_string = decode_string(decoded_second_string, ascii_to_char)\n",
        "\n",
        "print(\"Reconstructed Original String:\", reconstructed_original_string)"
      ]
    }
  ]
}